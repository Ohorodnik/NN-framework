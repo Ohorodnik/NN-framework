{
 "cells": [
  {
   "cell_type": "code",
   "execution_count": 1,
   "metadata": {},
   "outputs": [],
   "source": [
    "import tensorflow as tf\n",
    "import numpy as np"
   ]
  },
  {
   "cell_type": "code",
   "execution_count": 9,
   "metadata": {},
   "outputs": [],
   "source": [
    "rng = np.random.default_rng(seed=42)"
   ]
  },
  {
   "cell_type": "code",
   "execution_count": 10,
   "metadata": {},
   "outputs": [
    {
     "data": {
      "text/plain": [
       "(<tf.Tensor: shape=(6, 2), dtype=float64, numpy=\n",
       " array([[ 0.5479121 , -0.12224312],\n",
       "        [ 0.71719584,  0.39473606],\n",
       "        [-0.8116453 ,  0.9512447 ],\n",
       "        [ 0.5222794 ,  0.57212861],\n",
       "        [-0.74377273, -0.09922812],\n",
       "        [-0.25840395,  0.85352998]])>,\n",
       " <tf.Tensor: shape=(6, 1), dtype=float64, numpy=\n",
       " array([[0.],\n",
       "        [0.],\n",
       "        [1.],\n",
       "        [1.],\n",
       "        [1.],\n",
       "        [1.]])>)"
      ]
     },
     "execution_count": 10,
     "metadata": {},
     "output_type": "execute_result"
    }
   ],
   "source": [
    "X = tf.constant(rng.uniform(low=-1, high=1, size=(6, 2)))\n",
    "Y = tf.cast((X[:, 1:] - X[:, :1]) > 0, dtype=tf.float64)\n",
    "X, Y"
   ]
  },
  {
   "cell_type": "code",
   "execution_count": 4,
   "metadata": {},
   "outputs": [
    {
     "data": {
      "text/plain": [
       "(<tf.Variable 'Variable:0' shape=(2, 1) dtype=float64, numpy=\n",
       " array([[0.],\n",
       "        [0.]])>,\n",
       " <tf.Variable 'Variable:0' shape=(1, 1) dtype=float64, numpy=array([[0.]])>)"
      ]
     },
     "execution_count": 4,
     "metadata": {},
     "output_type": "execute_result"
    }
   ],
   "source": [
    "W = tf.Variable(\n",
    "    initial_value=tf.zeros(shape=(2, 1), dtype=tf.float64),\n",
    "    trainable=True,\n",
    "    validate_shape=True\n",
    ")\n",
    "B = tf.Variable(\n",
    "    initial_value=tf.zeros(shape=(1, 1), dtype=tf.float64),\n",
    "    trainable=True,\n",
    "    validate_shape=True\n",
    ")\n",
    "W, B"
   ]
  },
  {
   "cell_type": "code",
   "execution_count": 5,
   "metadata": {},
   "outputs": [
    {
     "data": {
      "text/plain": [
       "(<tf.Tensor: shape=(6, 1), dtype=float64, numpy=\n",
       " array([[0.5],\n",
       "        [0.5],\n",
       "        [0.5],\n",
       "        [0.5],\n",
       "        [0.5],\n",
       "        [0.5]])>,\n",
       " <tf.Tensor: shape=(6, 1), dtype=float64, numpy=\n",
       " array([[0.69314718],\n",
       "        [0.69314718],\n",
       "        [0.69314718],\n",
       "        [0.69314718],\n",
       "        [0.69314718],\n",
       "        [0.69314718]])>,\n",
       " <tf.Tensor: shape=(), dtype=float64, numpy=0.6931471805599453>)"
      ]
     },
     "execution_count": 5,
     "metadata": {},
     "output_type": "execute_result"
    }
   ],
   "source": [
    "with tf.GradientTape(persistent=True) as tape:\n",
    "    Z = X @ W + B\n",
    "    A = tf.math.sigmoid(Z)\n",
    "    loss = -(Y * tf.math.log(A) + (1 - Y) * tf.math.log(1 - A))\n",
    "    cost = tf.math.reduce_mean(loss)\n",
    "A, loss, cost"
   ]
  },
  {
   "cell_type": "code",
   "execution_count": 6,
   "metadata": {},
   "outputs": [
    {
     "data": {
      "text/plain": [
       "(<tf.Tensor: shape=(6, 1), dtype=float64, numpy=\n",
       " array([[ 2.],\n",
       "        [ 2.],\n",
       "        [-2.],\n",
       "        [-2.],\n",
       "        [-2.],\n",
       "        [-2.]])>,\n",
       " <tf.Tensor: shape=(6, 1), dtype=float64, numpy=\n",
       " array([[ 0.5],\n",
       "        [ 0.5],\n",
       "        [-0.5],\n",
       "        [-0.5],\n",
       "        [-0.5],\n",
       "        [-0.5]])>,\n",
       " <tf.Tensor: shape=(2, 1), dtype=float64, numpy=\n",
       " array([[ 1.27832526],\n",
       "        [-1.00259111]])>,\n",
       " <tf.Tensor: shape=(1, 1), dtype=float64, numpy=array([[-1.]])>)"
      ]
     },
     "execution_count": 6,
     "metadata": {},
     "output_type": "execute_result"
    }
   ],
   "source": [
    "dA, dZ, dW, dB = tape.gradient(target=loss, sources=[A, Z, W, B])\n",
    "dA, dZ, dW, dB"
   ]
  },
  {
   "cell_type": "code",
   "execution_count": 7,
   "metadata": {},
   "outputs": [
    {
     "data": {
      "text/plain": [
       "[<tf.Tensor: shape=(6, 1), dtype=float64, numpy=\n",
       " array([[ 0.33333333],\n",
       "        [ 0.33333333],\n",
       "        [-0.33333333],\n",
       "        [-0.33333333],\n",
       "        [-0.33333333],\n",
       "        [-0.33333333]])>,\n",
       " <tf.Tensor: shape=(6, 1), dtype=float64, numpy=\n",
       " array([[ 0.08333333],\n",
       "        [ 0.08333333],\n",
       "        [-0.08333333],\n",
       "        [-0.08333333],\n",
       "        [-0.08333333],\n",
       "        [-0.08333333]])>,\n",
       " <tf.Tensor: shape=(2, 1), dtype=float64, numpy=\n",
       " array([[ 0.21305421],\n",
       "        [-0.16709852]])>,\n",
       " <tf.Tensor: shape=(1, 1), dtype=float64, numpy=array([[-0.16666667]])>]"
      ]
     },
     "execution_count": 7,
     "metadata": {},
     "output_type": "execute_result"
    }
   ],
   "source": [
    "tape.gradient(target=cost, sources=[A, Z, W, B])"
   ]
  },
  {
   "cell_type": "code",
   "execution_count": 8,
   "metadata": {},
   "outputs": [
    {
     "data": {
      "text/plain": [
       "<tf.Tensor: shape=(2, 1), dtype=float64, numpy=\n",
       "array([[ 0.21305421],\n",
       "       [-0.16709852]])>"
      ]
     },
     "execution_count": 8,
     "metadata": {},
     "output_type": "execute_result"
    }
   ],
   "source": [
    "tf.matmul(X, dZ, transpose_a=True) / 6"
   ]
  },
  {
   "cell_type": "code",
   "execution_count": 69,
   "metadata": {},
   "outputs": [
    {
     "data": {
      "text/plain": [
       "<tf.Tensor: shape=(1,), dtype=float64, numpy=array([-0.96421025])>"
      ]
     },
     "execution_count": 69,
     "metadata": {},
     "output_type": "execute_result"
    }
   ],
   "source": [
    "tf.math.reduce_sum(dZ, axis=0)"
   ]
  },
  {
   "cell_type": "code",
   "execution_count": 7,
   "metadata": {},
   "outputs": [],
   "source": [
    "def get_cost(A, B):\n",
    "    cost = A - B**2\n",
    "    return cost"
   ]
  },
  {
   "cell_type": "code",
   "execution_count": 8,
   "metadata": {},
   "outputs": [
    {
     "data": {
      "text/plain": [
       "[<tf.Tensor: shape=(3, 1), dtype=float32, numpy=\n",
       " array([[-6.],\n",
       "        [-6.],\n",
       "        [-6.]], dtype=float32)>]"
      ]
     },
     "execution_count": 8,
     "metadata": {},
     "output_type": "execute_result"
    }
   ],
   "source": [
    "A = tf.ones(shape=(3, 1))\n",
    "B = tf.Variable(A * 3)\n",
    "with tf.GradientTape(persistent=True) as tape:\n",
    "    cost = get_cost(A, B)\n",
    "grad = tape.gradient(target=cost, sources=[B])\n",
    "grad"
   ]
  },
  {
   "cell_type": "code",
   "execution_count": 18,
   "metadata": {},
   "outputs": [
    {
     "name": "stdout",
     "output_type": "stream",
     "text": [
      "tf.Tensor(\n",
      "[[-6.]\n",
      " [-6.]\n",
      " [-6.]], shape=(3, 1), dtype=float32) <tf.Variable 'Variable:0' shape=(3, 1) dtype=float32, numpy=\n",
      "array([[9.],\n",
      "       [9.],\n",
      "       [9.]], dtype=float32)>\n",
      "tf.Tensor(\n",
      "[[-18.]\n",
      " [-18.]\n",
      " [-18.]], shape=(3, 1), dtype=float32) <tf.Variable 'Variable:0' shape=(3, 1) dtype=float32, numpy=\n",
      "array([[27.],\n",
      "       [27.],\n",
      "       [27.]], dtype=float32)>\n",
      "tf.Tensor(\n",
      "[[-54.]\n",
      " [-54.]\n",
      " [-54.]], shape=(3, 1), dtype=float32) <tf.Variable 'Variable:0' shape=(3, 1) dtype=float32, numpy=\n",
      "array([[81.],\n",
      "       [81.],\n",
      "       [81.]], dtype=float32)>\n"
     ]
    }
   ],
   "source": [
    "A = tf.ones(shape=(3, 1))\n",
    "B = tf.Variable(A * 3)\n",
    "for i in range(3):\n",
    "    with tf.GradientTape() as t:\n",
    "        c = get_cost(A, B)\n",
    "        grad = t.gradient(target=c, sources=[B])\n",
    "        B.assign_sub(grad[0])\n",
    "        print(grad[0], B)"
   ]
  },
  {
   "cell_type": "code",
   "execution_count": 19,
   "metadata": {},
   "outputs": [
    {
     "name": "stdout",
     "output_type": "stream",
     "text": [
      "tf.Tensor(\n",
      "[[-6.]\n",
      " [-6.]\n",
      " [-6.]], shape=(3, 1), dtype=float32) <tf.Variable 'Variable:0' shape=(3, 1) dtype=float32, numpy=\n",
      "array([[9.],\n",
      "       [9.],\n",
      "       [9.]], dtype=float32)>\n"
     ]
    }
   ],
   "source": [
    "A = tf.ones(shape=(3, 1))\n",
    "B = tf.Variable(A * 3)\n",
    "with tf.GradientTape() as t:\n",
    "    for i in range(3):\n",
    "        c = get_cost(A, B)\n",
    "grad = t.gradient(target=c, sources=[B])\n",
    "B.assign_sub(grad[0])\n",
    "print(grad[0], B)"
   ]
  },
  {
   "cell_type": "code",
   "execution_count": 22,
   "metadata": {},
   "outputs": [
    {
     "name": "stdout",
     "output_type": "stream",
     "text": [
      "tf.Tensor(\n",
      "[[-6.]\n",
      " [-6.]\n",
      " [-6.]], shape=(3, 1), dtype=float32) <tf.Variable 'Variable:0' shape=(3, 1) dtype=float32, numpy=\n",
      "array([[9.],\n",
      "       [9.],\n",
      "       [9.]], dtype=float32)>\n"
     ]
    },
    {
     "ename": "ValueError",
     "evalue": "Tape is not recording.",
     "output_type": "error",
     "traceback": [
      "\u001b[0;31m---------------------------------------------------------------------------\u001b[0m",
      "\u001b[0;31mValueError\u001b[0m                                Traceback (most recent call last)",
      "\u001b[0;32m<ipython-input-22-f1c75d0b94fa>\u001b[0m in \u001b[0;36m<module>\u001b[0;34m\u001b[0m\n\u001b[1;32m      7\u001b[0m         \u001b[0mB\u001b[0m\u001b[0;34m.\u001b[0m\u001b[0massign_sub\u001b[0m\u001b[0;34m(\u001b[0m\u001b[0mgrad\u001b[0m\u001b[0;34m[\u001b[0m\u001b[0;36m0\u001b[0m\u001b[0;34m]\u001b[0m\u001b[0;34m)\u001b[0m\u001b[0;34m\u001b[0m\u001b[0;34m\u001b[0m\u001b[0m\n\u001b[1;32m      8\u001b[0m         \u001b[0mprint\u001b[0m\u001b[0;34m(\u001b[0m\u001b[0mgrad\u001b[0m\u001b[0;34m[\u001b[0m\u001b[0;36m0\u001b[0m\u001b[0;34m]\u001b[0m\u001b[0;34m,\u001b[0m \u001b[0mB\u001b[0m\u001b[0;34m)\u001b[0m\u001b[0;34m\u001b[0m\u001b[0;34m\u001b[0m\u001b[0m\n\u001b[0;32m----> 9\u001b[0;31m         \u001b[0mt\u001b[0m\u001b[0;34m.\u001b[0m\u001b[0mreset\u001b[0m\u001b[0;34m(\u001b[0m\u001b[0;34m)\u001b[0m\u001b[0;34m\u001b[0m\u001b[0;34m\u001b[0m\u001b[0m\n\u001b[0m",
      "\u001b[0;32m~/anaconda3/envs/tf/lib/python3.8/site-packages/tensorflow/python/eager/backprop.py\u001b[0m in \u001b[0;36mreset\u001b[0;34m(self)\u001b[0m\n\u001b[1;32m    956\u001b[0m     \u001b[0;31m`\u001b[0m\u001b[0;31m`\u001b[0m\u001b[0;31m`\u001b[0m\u001b[0;34m\u001b[0m\u001b[0;34m\u001b[0m\u001b[0m\n\u001b[1;32m    957\u001b[0m     \"\"\"\n\u001b[0;32m--> 958\u001b[0;31m     \u001b[0mself\u001b[0m\u001b[0;34m.\u001b[0m\u001b[0m_pop_tape\u001b[0m\u001b[0;34m(\u001b[0m\u001b[0;34m)\u001b[0m\u001b[0;34m\u001b[0m\u001b[0;34m\u001b[0m\u001b[0m\n\u001b[0m\u001b[1;32m    959\u001b[0m     \u001b[0mself\u001b[0m\u001b[0;34m.\u001b[0m\u001b[0m_tape\u001b[0m \u001b[0;34m=\u001b[0m \u001b[0;32mNone\u001b[0m\u001b[0;34m\u001b[0m\u001b[0;34m\u001b[0m\u001b[0m\n\u001b[1;32m    960\u001b[0m     \u001b[0mself\u001b[0m\u001b[0;34m.\u001b[0m\u001b[0m_push_tape\u001b[0m\u001b[0;34m(\u001b[0m\u001b[0;34m)\u001b[0m\u001b[0;34m\u001b[0m\u001b[0;34m\u001b[0m\u001b[0m\n",
      "\u001b[0;32m~/anaconda3/envs/tf/lib/python3.8/site-packages/tensorflow/python/eager/backprop.py\u001b[0m in \u001b[0;36m_pop_tape\u001b[0;34m(self)\u001b[0m\n\u001b[1;32m    854\u001b[0m   \u001b[0;32mdef\u001b[0m \u001b[0m_pop_tape\u001b[0m\u001b[0;34m(\u001b[0m\u001b[0mself\u001b[0m\u001b[0;34m)\u001b[0m\u001b[0;34m:\u001b[0m\u001b[0;34m\u001b[0m\u001b[0;34m\u001b[0m\u001b[0m\n\u001b[1;32m    855\u001b[0m     \u001b[0;32mif\u001b[0m \u001b[0;32mnot\u001b[0m \u001b[0mself\u001b[0m\u001b[0;34m.\u001b[0m\u001b[0m_recording\u001b[0m\u001b[0;34m:\u001b[0m\u001b[0;34m\u001b[0m\u001b[0;34m\u001b[0m\u001b[0m\n\u001b[0;32m--> 856\u001b[0;31m       \u001b[0;32mraise\u001b[0m \u001b[0mValueError\u001b[0m\u001b[0;34m(\u001b[0m\u001b[0;34m\"Tape is not recording.\"\u001b[0m\u001b[0;34m)\u001b[0m\u001b[0;34m\u001b[0m\u001b[0;34m\u001b[0m\u001b[0m\n\u001b[0m\u001b[1;32m    857\u001b[0m     \u001b[0mtape\u001b[0m\u001b[0;34m.\u001b[0m\u001b[0mpop_tape\u001b[0m\u001b[0;34m(\u001b[0m\u001b[0mself\u001b[0m\u001b[0;34m.\u001b[0m\u001b[0m_tape\u001b[0m\u001b[0;34m)\u001b[0m\u001b[0;34m\u001b[0m\u001b[0;34m\u001b[0m\u001b[0m\n\u001b[1;32m    858\u001b[0m     \u001b[0mself\u001b[0m\u001b[0;34m.\u001b[0m\u001b[0m_recording\u001b[0m \u001b[0;34m=\u001b[0m \u001b[0;32mFalse\u001b[0m\u001b[0;34m\u001b[0m\u001b[0;34m\u001b[0m\u001b[0m\n",
      "\u001b[0;31mValueError\u001b[0m: Tape is not recording."
     ]
    }
   ],
   "source": [
    "A = tf.ones(shape=(3, 1))\n",
    "B = tf.Variable(A * 3)\n",
    "with tf.GradientTape() as t:\n",
    "    for i in range(3):\n",
    "        c = get_cost(A, B)\n",
    "        grad = t.gradient(target=c, sources=[B])\n",
    "        B.assign_sub(grad[0])\n",
    "        print(grad[0], B)\n",
    "        t.reset()\n"
   ]
  },
  {
   "cell_type": "code",
   "execution_count": 50,
   "metadata": {},
   "outputs": [],
   "source": [
    "from itertools import count"
   ]
  },
  {
   "cell_type": "code",
   "execution_count": 68,
   "metadata": {},
   "outputs": [],
   "source": [
    "class A:\n",
    "    _instance_count = count(0)\n",
    "    def __init__(self):\n",
    "        self.instance_count = next(self._instance_count)\n",
    "    def test(self, x):\n",
    "        y = self.get_y__()\n",
    "        print(f\"{x} {y}\")\n",
    "    def get_y__(self):\n",
    "        return \"class A\""
   ]
  },
  {
   "cell_type": "code",
   "execution_count": 83,
   "metadata": {},
   "outputs": [
    {
     "name": "stdout",
     "output_type": "stream",
     "text": [
      "hi class A\n"
     ]
    },
    {
     "data": {
      "text/plain": [
       "3"
      ]
     },
     "execution_count": 83,
     "metadata": {},
     "output_type": "execute_result"
    }
   ],
   "source": [
    "a = A()\n",
    "a.test(\"hi\")\n",
    "a.instance_count"
   ]
  },
  {
   "cell_type": "code",
   "execution_count": 70,
   "metadata": {},
   "outputs": [],
   "source": [
    "class B(A):\n",
    "    _instance_count = count(0)\n",
    "    def __init__(self):\n",
    "        super().__init__()\n",
    "    def get_y__(self):\n",
    "        return \"class B\""
   ]
  },
  {
   "cell_type": "code",
   "execution_count": 81,
   "metadata": {},
   "outputs": [
    {
     "name": "stdout",
     "output_type": "stream",
     "text": [
      "hi class B\n"
     ]
    }
   ],
   "source": [
    "b = B()\n",
    "b.test(\"hi\")"
   ]
  },
  {
   "cell_type": "code",
   "execution_count": 75,
   "metadata": {},
   "outputs": [
    {
     "data": {
      "text/plain": [
       "1"
      ]
     },
     "execution_count": 75,
     "metadata": {},
     "output_type": "execute_result"
    }
   ],
   "source": [
    "a.instance_count"
   ]
  },
  {
   "cell_type": "code",
   "execution_count": 82,
   "metadata": {},
   "outputs": [
    {
     "data": {
      "text/plain": [
       "4"
      ]
     },
     "execution_count": 82,
     "metadata": {},
     "output_type": "execute_result"
    }
   ],
   "source": [
    "b.instance_count"
   ]
  },
  {
   "cell_type": "code",
   "execution_count": null,
   "metadata": {},
   "outputs": [],
   "source": []
  }
 ],
 "metadata": {
  "kernelspec": {
   "display_name": "Python 3",
   "language": "python",
   "name": "python3"
  },
  "language_info": {
   "codemirror_mode": {
    "name": "ipython",
    "version": 3
   },
   "file_extension": ".py",
   "mimetype": "text/x-python",
   "name": "python",
   "nbconvert_exporter": "python",
   "pygments_lexer": "ipython3",
   "version": "3.8.3"
  }
 },
 "nbformat": 4,
 "nbformat_minor": 4
}
